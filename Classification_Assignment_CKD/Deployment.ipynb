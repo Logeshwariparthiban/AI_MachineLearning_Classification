{
 "cells": [
  {
   "cell_type": "code",
   "execution_count": 16,
   "id": "004776b6-44d3-49c3-add6-73d546c5fcb8",
   "metadata": {},
   "outputs": [],
   "source": [
    "import numpy as np\n",
    "import matplotlib.pyplot as plt\n",
    "import pandas as pd\n",
    "import pickle"
   ]
  },
  {
   "cell_type": "code",
   "execution_count": 19,
   "id": "e3cdaa65-fa25-40cf-9648-ea4f037574ca",
   "metadata": {},
   "outputs": [],
   "source": [
    "dataset = pd.read_csv('CKD.csv')\n",
    "dataset = pd.get_dummies(dataset, dtype=int, drop_first=True)\n",
    "indep=dataset[['bgr', 'bu', 'sc', 'pcv', 'wc']]\n",
    "dep=dataset['classification_yes']\n",
    "from sklearn.model_selection import train_test_split\n",
    "X_train, X_test, y_train, y_test = train_test_split(indep, dep, test_size = 1/3, random_state = 0)"
   ]
  },
  {
   "cell_type": "code",
   "execution_count": 20,
   "id": "c0524085-a1dc-46d2-b38e-9cca5d664306",
   "metadata": {},
   "outputs": [],
   "source": [
    "from sklearn.preprocessing import StandardScaler\n",
    "sc = StandardScaler()\n",
    "X_train = sc.fit_transform(X_train)\n",
    "X_test = sc.transform(X_test)"
   ]
  },
  {
   "cell_type": "code",
   "execution_count": 21,
   "id": "0e66fe5a-01b2-4e6f-8268-91c50e776a20",
   "metadata": {},
   "outputs": [],
   "source": [
    "preinput_data = [[22, 2.0, 3.0, 2.0,3]]"
   ]
  },
  {
   "cell_type": "code",
   "execution_count": 22,
   "id": "aa45600a-ce46-480c-b69e-692d7b742119",
   "metadata": {},
   "outputs": [
    {
     "name": "stderr",
     "output_type": "stream",
     "text": [
      "C:\\Anaconda3\\Lib\\site-packages\\sklearn\\base.py:493: UserWarning: X does not have valid feature names, but StandardScaler was fitted with feature names\n",
      "  warnings.warn(\n"
     ]
    }
   ],
   "source": [
    "preinput = sc.transform(preinput_data)"
   ]
  },
  {
   "cell_type": "code",
   "execution_count": 23,
   "id": "0c71cccd-2bc6-437d-a808-b60bb04c4f4a",
   "metadata": {},
   "outputs": [
    {
     "data": {
      "text/plain": [
       "array([[-1.6726475 , -1.10221949, -0.0341477 , -4.55435782, -3.46368741]])"
      ]
     },
     "execution_count": 23,
     "metadata": {},
     "output_type": "execute_result"
    }
   ],
   "source": [
    "preinput"
   ]
  },
  {
   "cell_type": "code",
   "execution_count": 24,
   "id": "c011c0ee-d343-4622-ac46-cda717e31609",
   "metadata": {},
   "outputs": [],
   "source": [
    "loaded_model=pickle.load(open(\"finilized_model_SVC.sav\",'rb'))\n",
    "result=loaded_model.predict(preinput)"
   ]
  },
  {
   "cell_type": "code",
   "execution_count": 25,
   "id": "e540ff1d-160c-4a93-84c2-368415aaecff",
   "metadata": {},
   "outputs": [
    {
     "data": {
      "text/plain": [
       "array([1])"
      ]
     },
     "execution_count": 25,
     "metadata": {},
     "output_type": "execute_result"
    }
   ],
   "source": [
    "result"
   ]
  },
  {
   "cell_type": "code",
   "execution_count": null,
   "id": "85931ad6-0f68-41a3-a287-6e6ae1ed9a30",
   "metadata": {},
   "outputs": [],
   "source": []
  }
 ],
 "metadata": {
  "kernelspec": {
   "display_name": "Python 3 (ipykernel)",
   "language": "python",
   "name": "python3"
  },
  "language_info": {
   "codemirror_mode": {
    "name": "ipython",
    "version": 3
   },
   "file_extension": ".py",
   "mimetype": "text/x-python",
   "name": "python",
   "nbconvert_exporter": "python",
   "pygments_lexer": "ipython3",
   "version": "3.12.4"
  }
 },
 "nbformat": 4,
 "nbformat_minor": 5
}
